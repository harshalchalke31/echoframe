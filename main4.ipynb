{
 "cells": [
  {
   "cell_type": "code",
   "execution_count": null,
   "metadata": {},
   "outputs": [
    {
     "name": "stderr",
     "output_type": "stream",
     "text": [
      "/home/hc4293/miniconda3/envs/imgsenv/lib/python3.12/site-packages/torchvision/models/_utils.py:208: UserWarning: The parameter 'pretrained' is deprecated since 0.13 and may be removed in the future, please use 'weights' instead.\n",
      "  warnings.warn(\n",
      "/home/hc4293/miniconda3/envs/imgsenv/lib/python3.12/site-packages/torchvision/models/_utils.py:223: UserWarning: Arguments other than a weight enum or `None` for 'weights' are deprecated since 0.13 and may be removed in the future. The current behavior is equivalent to passing `weights=MobileNet_V3_Large_Weights.IMAGENET1K_V1`. You can also use `weights=MobileNet_V3_Large_Weights.DEFAULT` to get the most up-to-date weights.\n",
      "  warnings.warn(msg)\n",
      "/home/hc4293/miniconda3/envs/imgsenv/lib/python3.12/site-packages/torch/optim/lr_scheduler.py:62: UserWarning: The verbose parameter is deprecated. Please use get_last_lr() to access the learning rate.\n",
      "  warnings.warn(\n",
      "/tmp/ipykernel_3980353/1355912190.py:63: FutureWarning: `torch.cuda.amp.GradScaler(args...)` is deprecated. Please use `torch.amp.GradScaler('cuda', args...)` instead.\n",
      "  scaler = GradScaler()\n",
      "Epoch 1/10 [Train]:   0%|          | 0/7465 [00:00<?, ?batch/s]/home/hc4293/echoframe/dataloaderv2.py:109: FutureWarning: You are using `torch.load` with `weights_only=False` (the current default value), which uses the default pickle module implicitly. It is possible to construct malicious pickle data which will execute arbitrary code during unpickling (See https://github.com/pytorch/pytorch/blob/main/SECURITY.md#untrusted-models for more details). In a future release, the default value for `weights_only` will be flipped to `True`. This limits the functions that could be executed during unpickling. Arbitrary objects will no longer be allowed to be loaded via this mode unless they are explicitly allowlisted by the user via `torch.serialization.add_safe_globals`. We recommend you start setting `weights_only=True` for any use case where you don't have full control of the loaded file. Please open an issue on GitHub for any issues related to this experimental feature.\n",
      "  m = torch.load(mask_path)\n",
      "/tmp/ipykernel_3980353/1355912190.py:86: FutureWarning: `torch.cuda.amp.autocast(args...)` is deprecated. Please use `torch.amp.autocast('cuda', args...)` instead.\n",
      "  with autocast():\n",
      "Epoch 1/10 [Train]: 100%|██████████| 7465/7465 [28:02<00:00,  4.44batch/s]\n"
     ]
    },
    {
     "name": "stdout",
     "output_type": "stream",
     "text": [
      "Epoch 1/10 Summary: Train Loss: -12.1326, Train Dice: 1.8905 | Val Loss: -12.1303, Val Dice: 1.9154\n",
      "Best model updated at epoch 1 with Val Loss: -12.1303\n"
     ]
    },
    {
     "name": "stderr",
     "output_type": "stream",
     "text": [
      "Epoch 2/10 [Train]: 100%|██████████| 7465/7465 [28:13<00:00,  4.41batch/s]\n"
     ]
    },
    {
     "name": "stdout",
     "output_type": "stream",
     "text": [
      "Epoch 2/10 Summary: Train Loss: -12.3575, Train Dice: 1.9209 | Val Loss: -12.1298, Val Dice: 1.9151\n"
     ]
    },
    {
     "name": "stderr",
     "output_type": "stream",
     "text": [
      "Epoch 3/10 [Train]: 100%|██████████| 7465/7465 [28:18<00:00,  4.39batch/s]\n"
     ]
    },
    {
     "name": "stdout",
     "output_type": "stream",
     "text": [
      "Epoch 3/10 Summary: Train Loss: -12.3617, Train Dice: 1.9220 | Val Loss: -11.8434, Val Dice: 1.8733\n"
     ]
    },
    {
     "name": "stderr",
     "output_type": "stream",
     "text": [
      "Epoch 4/10 [Train]: 100%|██████████| 7465/7465 [29:01<00:00,  4.29batch/s]\n"
     ]
    },
    {
     "name": "stdout",
     "output_type": "stream",
     "text": [
      "Epoch 4/10 Summary: Train Loss: -12.2740, Train Dice: 1.9092 | Val Loss: -12.2234, Val Dice: 1.9297\n",
      "Best model updated at epoch 4 with Val Loss: -12.2234\n"
     ]
    },
    {
     "name": "stderr",
     "output_type": "stream",
     "text": [
      "Epoch 5/10 [Train]: 100%|██████████| 7465/7465 [28:43<00:00,  4.33batch/s]\n"
     ]
    }
   ],
   "source": [
    "import torch\n",
    "from torch.utils.data import DataLoader\n",
    "from dataloaderv2 import EchoVideoDataset\n",
    "from modelv7 import MobileNetV3UNet\n",
    "from utils import validate_model\n",
    "import torch.optim as optim\n",
    "from torch.cuda.amp import autocast, GradScaler\n",
    "from tqdm import tqdm\n",
    "import numpy as np\n",
    "import os\n",
    "\n",
    "os.environ[\"CUDA_VISIBLE_DEVICES\"] = \"5\"\n",
    "device = torch.device(\"cuda\" if torch.cuda.is_available() else \"cpu\")\n",
    "\n",
    "# Fix Dice Coefficient\n",
    "\n",
    "def dice_coefficient(pred, target, smooth=1e-6):\n",
    "    \"\"\"\n",
    "    Compute the Dice coefficient.\n",
    "    Args:\n",
    "        pred: Model predictions (logits or probabilities).\n",
    "        target: Ground truth binary masks.\n",
    "        smooth: Small value to avoid division by zero.\n",
    "    Returns:\n",
    "        Dice coefficient between 0 and 1.\n",
    "    \"\"\"\n",
    "    pred = torch.sigmoid(pred)  # Convert logits to probabilities\n",
    "    intersection = (pred * target).sum(dim=(2, 3))\n",
    "    union = pred.sum(dim=(2, 3)) + target.sum(dim=(2, 3))\n",
    "    dice = (2. * intersection + smooth) / (union + smooth)\n",
    "    return dice.mean()\n",
    "\n",
    "# Update Loss Function\n",
    "def combined_loss(pred, target, smooth=1e-6, alpha=0.5):\n",
    "    \"\"\"\n",
    "    Combined loss of Dice and BCE.\n",
    "    \"\"\"\n",
    "    pred = torch.sigmoid(pred)\n",
    "    intersection = (pred * target).sum(dim=(2, 3))\n",
    "    union = pred.sum(dim=(2, 3)) + target.sum(dim=(2, 3))\n",
    "    dice = (2. * intersection + smooth) / (union + smooth)\n",
    "    dice_loss = 1 - dice.mean()\n",
    "    bce_loss = torch.nn.functional.binary_cross_entropy_with_logits(pred, target)\n",
    "    return alpha * dice_loss + (1 - alpha) * bce_loss\n",
    "\n",
    "# Initialize datasets\n",
    "train_dataset = EchoVideoDataset(root=\"./data/echodynamic\", split='train')\n",
    "val_dataset = EchoVideoDataset(root=\"./data/echodynamic\", split='val')\n",
    "\n",
    "train_loader = DataLoader(train_dataset, batch_size=1, shuffle=True)\n",
    "val_loader = DataLoader(val_dataset, batch_size=1, shuffle=False)\n",
    "\n",
    "model = MobileNetV3UNet(in_channels=4, out_channels=1, config_name=\"large\", backbone=True).to(device)\n",
    "\n",
    "max_frames_per_step = 64  # Adjust this based on GPU memory\n",
    "num_epochs = 10\n",
    "lr = 1e-4\n",
    "weight_decay = 1e-4\n",
    "save_path = \"best_model.pth\"\n",
    "\n",
    "optimizer = optim.Adam(model.parameters(), lr=lr, weight_decay=weight_decay)\n",
    "scheduler = optim.lr_scheduler.ReduceLROnPlateau(optimizer, mode='min', factor=0.5, patience=3, verbose=True)\n",
    "scaler = GradScaler()\n",
    "\n",
    "best_val_loss = float('inf')\n",
    "\n",
    "for epoch in range(num_epochs):\n",
    "    model.train()\n",
    "    train_losses = []\n",
    "    train_dice_scores = []\n",
    "\n",
    "    # Training loop with progress bar\n",
    "    with tqdm(total=len(train_loader), desc=f\"Epoch {epoch+1}/{num_epochs} [Train]\", unit=\"batch\") as pbar:\n",
    "        for batch_inp, batch_mask in train_loader:\n",
    "            batch_inp = batch_inp.squeeze(0).to(device)   # (num_frames,4,H,W)\n",
    "            batch_mask = batch_mask.squeeze(0).to(device) # (num_frames,1,H,W)\n",
    "\n",
    "            num_frames = batch_inp.shape[0]\n",
    "            start_idx = 0\n",
    "            while start_idx < num_frames:\n",
    "                end_idx = min(start_idx + max_frames_per_step, num_frames)\n",
    "                inp_chunk = batch_inp[start_idx:end_idx]\n",
    "                mask_chunk = batch_mask[start_idx:end_idx]\n",
    "\n",
    "                optimizer.zero_grad()\n",
    "                with autocast():\n",
    "                    pred_mask = model(inp_chunk)\n",
    "                    loss = combined_loss(pred_mask, mask_chunk)\n",
    "\n",
    "                scaler.scale(loss).backward()\n",
    "                torch.nn.utils.clip_grad_norm_(model.parameters(), max_norm=1.0)  # Gradient clipping\n",
    "                scaler.step(optimizer)\n",
    "                scaler.update()\n",
    "\n",
    "                train_losses.append(loss.item())\n",
    "                dice_train = dice_coefficient(pred_mask, mask_chunk)  # Ensure sigmoid before Dice\n",
    "                train_dice_scores.append(dice_train.item())\n",
    "\n",
    "                start_idx = end_idx\n",
    "\n",
    "            pbar.update(1)\n",
    "\n",
    "    train_loss_mean = np.mean(train_losses)\n",
    "    train_dice_mean = np.mean(train_dice_scores)\n",
    "\n",
    "    # Validation loop\n",
    "    val_loss_mean, val_dice_mean = validate_model(model, val_loader, device, combined_loss)\n",
    "\n",
    "    # Logging\n",
    "    print(f\"Epoch {epoch+1}/{num_epochs} Summary: Train Loss: {train_loss_mean:.4f}, Train Dice: {train_dice_mean:.4f} | Val Loss: {val_loss_mean:.4f}, Val Dice: {val_dice_mean:.4f}\")\n",
    "\n",
    "    # Learning rate scheduler\n",
    "    scheduler.step(val_loss_mean)\n",
    "\n",
    "    # Save best model\n",
    "    if val_loss_mean < best_val_loss:\n",
    "        best_val_loss = val_loss_mean\n",
    "        torch.save({\n",
    "            'epoch': epoch + 1,\n",
    "            'model_state_dict': model.state_dict(),\n",
    "            'optimizer_state_dict': optimizer.state_dict(),\n",
    "            'loss': best_val_loss,\n",
    "        }, save_path)\n",
    "        print(f\"Best model updated at epoch {epoch+1} with Val Loss: {best_val_loss:.4f}\")\n",
    "\n",
    "    # Clear cache\n",
    "    torch.cuda.empty_cache()"
   ]
  },
  {
   "cell_type": "code",
   "execution_count": null,
   "metadata": {},
   "outputs": [],
   "source": []
  }
 ],
 "metadata": {
  "kernelspec": {
   "display_name": "imgsenv",
   "language": "python",
   "name": "python3"
  },
  "language_info": {
   "codemirror_mode": {
    "name": "ipython",
    "version": 3
   },
   "file_extension": ".py",
   "mimetype": "text/x-python",
   "name": "python",
   "nbconvert_exporter": "python",
   "pygments_lexer": "ipython3",
   "version": "3.12.7"
  }
 },
 "nbformat": 4,
 "nbformat_minor": 2
}
