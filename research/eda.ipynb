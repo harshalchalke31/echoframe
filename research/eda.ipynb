{
 "cells": [
  {
   "cell_type": "markdown",
   "metadata": {},
   "source": [
    "## Dependencies"
   ]
  },
  {
   "cell_type": "code",
   "execution_count": 1,
   "metadata": {},
   "outputs": [
    {
     "data": {
      "text/plain": [
       "'c:\\\\Projects\\\\python\\\\echoframe'"
      ]
     },
     "execution_count": 1,
     "metadata": {},
     "output_type": "execute_result"
    }
   ],
   "source": [
    "import os\n",
    "import pandas as pd\n",
    "from pathlib import Path\n",
    "import seaborn as sns\n",
    "import matplotlib.pyplot as plt\n",
    "import cv2\n",
    "import numpy as np\n",
    "\n",
    "data_path = Path('./data/EchoNet-Dynamic/EchoNet-Dynamic/')\n",
    "file_list_path = os.path.join(data_path,'FileList.csv')\n",
    "volume_tracings_path = os.path.join(data_path,'VolumeTracings.csv')\n",
    "videos_path = os.path.join(data_path,'Videos')\n",
    "os.chdir('../')\n",
    "%pwd"
   ]
  },
  {
   "cell_type": "code",
   "execution_count": 2,
   "metadata": {},
   "outputs": [
    {
     "data": {
      "text/html": [
       "<div>\n",
       "<style scoped>\n",
       "    .dataframe tbody tr th:only-of-type {\n",
       "        vertical-align: middle;\n",
       "    }\n",
       "\n",
       "    .dataframe tbody tr th {\n",
       "        vertical-align: top;\n",
       "    }\n",
       "\n",
       "    .dataframe thead th {\n",
       "        text-align: right;\n",
       "    }\n",
       "</style>\n",
       "<table border=\"1\" class=\"dataframe\">\n",
       "  <thead>\n",
       "    <tr style=\"text-align: right;\">\n",
       "      <th></th>\n",
       "      <th>FileName</th>\n",
       "      <th>EF</th>\n",
       "      <th>ESV</th>\n",
       "      <th>EDV</th>\n",
       "      <th>FrameHeight</th>\n",
       "      <th>FrameWidth</th>\n",
       "      <th>FPS</th>\n",
       "      <th>NumberOfFrames</th>\n",
       "      <th>Split</th>\n",
       "    </tr>\n",
       "  </thead>\n",
       "  <tbody>\n",
       "    <tr>\n",
       "      <th>0</th>\n",
       "      <td>0X100009310A3BD7FC</td>\n",
       "      <td>78.498406</td>\n",
       "      <td>14.881368</td>\n",
       "      <td>69.210534</td>\n",
       "      <td>112</td>\n",
       "      <td>112</td>\n",
       "      <td>50</td>\n",
       "      <td>174</td>\n",
       "      <td>VAL</td>\n",
       "    </tr>\n",
       "    <tr>\n",
       "      <th>1</th>\n",
       "      <td>0X1002E8FBACD08477</td>\n",
       "      <td>59.101988</td>\n",
       "      <td>40.383876</td>\n",
       "      <td>98.742884</td>\n",
       "      <td>112</td>\n",
       "      <td>112</td>\n",
       "      <td>50</td>\n",
       "      <td>215</td>\n",
       "      <td>TRAIN</td>\n",
       "    </tr>\n",
       "    <tr>\n",
       "      <th>2</th>\n",
       "      <td>0X1005D03EED19C65B</td>\n",
       "      <td>62.363798</td>\n",
       "      <td>14.267784</td>\n",
       "      <td>37.909734</td>\n",
       "      <td>112</td>\n",
       "      <td>112</td>\n",
       "      <td>50</td>\n",
       "      <td>104</td>\n",
       "      <td>TRAIN</td>\n",
       "    </tr>\n",
       "    <tr>\n",
       "      <th>3</th>\n",
       "      <td>0X10075961BC11C88E</td>\n",
       "      <td>54.545097</td>\n",
       "      <td>33.143084</td>\n",
       "      <td>72.914210</td>\n",
       "      <td>112</td>\n",
       "      <td>112</td>\n",
       "      <td>55</td>\n",
       "      <td>122</td>\n",
       "      <td>TRAIN</td>\n",
       "    </tr>\n",
       "    <tr>\n",
       "      <th>4</th>\n",
       "      <td>0X10094BA0A028EAC3</td>\n",
       "      <td>24.887742</td>\n",
       "      <td>127.581945</td>\n",
       "      <td>169.855024</td>\n",
       "      <td>112</td>\n",
       "      <td>112</td>\n",
       "      <td>52</td>\n",
       "      <td>207</td>\n",
       "      <td>VAL</td>\n",
       "    </tr>\n",
       "  </tbody>\n",
       "</table>\n",
       "</div>"
      ],
      "text/plain": [
       "             FileName         EF         ESV         EDV  FrameHeight  \\\n",
       "0  0X100009310A3BD7FC  78.498406   14.881368   69.210534          112   \n",
       "1  0X1002E8FBACD08477  59.101988   40.383876   98.742884          112   \n",
       "2  0X1005D03EED19C65B  62.363798   14.267784   37.909734          112   \n",
       "3  0X10075961BC11C88E  54.545097   33.143084   72.914210          112   \n",
       "4  0X10094BA0A028EAC3  24.887742  127.581945  169.855024          112   \n",
       "\n",
       "   FrameWidth  FPS  NumberOfFrames  Split  \n",
       "0         112   50             174    VAL  \n",
       "1         112   50             215  TRAIN  \n",
       "2         112   50             104  TRAIN  \n",
       "3         112   55             122  TRAIN  \n",
       "4         112   52             207    VAL  "
      ]
     },
     "execution_count": 2,
     "metadata": {},
     "output_type": "execute_result"
    }
   ],
   "source": [
    "file_list = pd.read_csv(filepath_or_buffer=file_list_path)\n",
    "file_list.head()"
   ]
  },
  {
   "cell_type": "code",
   "execution_count": 3,
   "metadata": {},
   "outputs": [
    {
     "data": {
      "text/html": [
       "<div>\n",
       "<style scoped>\n",
       "    .dataframe tbody tr th:only-of-type {\n",
       "        vertical-align: middle;\n",
       "    }\n",
       "\n",
       "    .dataframe tbody tr th {\n",
       "        vertical-align: top;\n",
       "    }\n",
       "\n",
       "    .dataframe thead th {\n",
       "        text-align: right;\n",
       "    }\n",
       "</style>\n",
       "<table border=\"1\" class=\"dataframe\">\n",
       "  <thead>\n",
       "    <tr style=\"text-align: right;\">\n",
       "      <th></th>\n",
       "      <th>FileName</th>\n",
       "      <th>X1</th>\n",
       "      <th>Y1</th>\n",
       "      <th>X2</th>\n",
       "      <th>Y2</th>\n",
       "      <th>Frame</th>\n",
       "    </tr>\n",
       "  </thead>\n",
       "  <tbody>\n",
       "    <tr>\n",
       "      <th>0</th>\n",
       "      <td>0X100009310A3BD7FC.avi</td>\n",
       "      <td>51.260417</td>\n",
       "      <td>15.348958</td>\n",
       "      <td>64.932292</td>\n",
       "      <td>69.125000</td>\n",
       "      <td>46</td>\n",
       "    </tr>\n",
       "    <tr>\n",
       "      <th>1</th>\n",
       "      <td>0X100009310A3BD7FC.avi</td>\n",
       "      <td>50.037611</td>\n",
       "      <td>17.167841</td>\n",
       "      <td>53.367222</td>\n",
       "      <td>16.321330</td>\n",
       "      <td>46</td>\n",
       "    </tr>\n",
       "    <tr>\n",
       "      <th>2</th>\n",
       "      <td>0X100009310A3BD7FC.avi</td>\n",
       "      <td>49.157378</td>\n",
       "      <td>20.407629</td>\n",
       "      <td>57.090549</td>\n",
       "      <td>18.390722</td>\n",
       "      <td>46</td>\n",
       "    </tr>\n",
       "    <tr>\n",
       "      <th>3</th>\n",
       "      <td>0X100009310A3BD7FC.avi</td>\n",
       "      <td>48.538173</td>\n",
       "      <td>23.581055</td>\n",
       "      <td>59.997339</td>\n",
       "      <td>20.667707</td>\n",
       "      <td>46</td>\n",
       "    </tr>\n",
       "    <tr>\n",
       "      <th>4</th>\n",
       "      <td>0X100009310A3BD7FC.avi</td>\n",
       "      <td>47.918968</td>\n",
       "      <td>26.754480</td>\n",
       "      <td>62.904129</td>\n",
       "      <td>22.944693</td>\n",
       "      <td>46</td>\n",
       "    </tr>\n",
       "  </tbody>\n",
       "</table>\n",
       "</div>"
      ],
      "text/plain": [
       "                 FileName         X1         Y1         X2         Y2  Frame\n",
       "0  0X100009310A3BD7FC.avi  51.260417  15.348958  64.932292  69.125000     46\n",
       "1  0X100009310A3BD7FC.avi  50.037611  17.167841  53.367222  16.321330     46\n",
       "2  0X100009310A3BD7FC.avi  49.157378  20.407629  57.090549  18.390722     46\n",
       "3  0X100009310A3BD7FC.avi  48.538173  23.581055  59.997339  20.667707     46\n",
       "4  0X100009310A3BD7FC.avi  47.918968  26.754480  62.904129  22.944693     46"
      ]
     },
     "execution_count": 3,
     "metadata": {},
     "output_type": "execute_result"
    }
   ],
   "source": [
    "volume_tracings = pd.read_csv(filepath_or_buffer=volume_tracings_path)\n",
    "volume_tracings.head()"
   ]
  },
  {
   "cell_type": "markdown",
   "metadata": {},
   "source": [
    "## Exploratory Data Analysis"
   ]
  },
  {
   "cell_type": "markdown",
   "metadata": {},
   "source": [
    "### File list"
   ]
  },
  {
   "cell_type": "code",
   "execution_count": 4,
   "metadata": {},
   "outputs": [
    {
     "name": "stdout",
     "output_type": "stream",
     "text": [
      "<class 'pandas.core.frame.DataFrame'>\n",
      "RangeIndex: 10030 entries, 0 to 10029\n",
      "Data columns (total 9 columns):\n",
      " #   Column          Non-Null Count  Dtype  \n",
      "---  ------          --------------  -----  \n",
      " 0   FileName        10030 non-null  object \n",
      " 1   EF              10030 non-null  float64\n",
      " 2   ESV             10030 non-null  float64\n",
      " 3   EDV             10030 non-null  float64\n",
      " 4   FrameHeight     10030 non-null  int64  \n",
      " 5   FrameWidth      10030 non-null  int64  \n",
      " 6   FPS             10030 non-null  int64  \n",
      " 7   NumberOfFrames  10030 non-null  int64  \n",
      " 8   Split           10030 non-null  object \n",
      "dtypes: float64(3), int64(4), object(2)\n",
      "memory usage: 705.4+ KB\n"
     ]
    }
   ],
   "source": [
    "file_list.info()"
   ]
  },
  {
   "cell_type": "code",
   "execution_count": 5,
   "metadata": {},
   "outputs": [
    {
     "data": {
      "text/plain": [
       "Split\n",
       "TRAIN    7465\n",
       "VAL      1288\n",
       "TEST     1277\n",
       "Name: count, dtype: int64"
      ]
     },
     "execution_count": 5,
     "metadata": {},
     "output_type": "execute_result"
    }
   ],
   "source": [
    "file_list['Split'].value_counts()"
   ]
  },
  {
   "cell_type": "code",
   "execution_count": 6,
   "metadata": {},
   "outputs": [
    {
     "data": {
      "image/png": "[encoded data removed]",
      "text/plain": [
       "<Figure size 800x600 with 1 Axes>"
      ]
     },
     "metadata": {},
     "output_type": "display_data"
    }
   ],
   "source": [
    "data_melted = file_list.melt(value_vars=[\"ESV\", \"EDV\"], var_name=\"Measurement\", value_name=\"Value\")\n",
    "\n",
    "plt.figure(figsize=(8, 6))\n",
    "sns.boxplot(x=\"Measurement\", y=\"Value\", data=data_melted)\n",
    "plt.xlabel(\"Measurement Type\")\n",
    "plt.ylabel(\"Value\")\n",
    "plt.title(\"Box Plot of ESV and EDV\")\n",
    "plt.grid(True)\n",
    "plt.show()\n"
   ]
  },
  {
   "cell_type": "code",
   "execution_count": 7,
   "metadata": {},
   "outputs": [
    {
     "data": {
      "text/plain": [
       "array([ 112, 1024, 1040], dtype=int64)"
      ]
     },
     "execution_count": 7,
     "metadata": {},
     "output_type": "execute_result"
    }
   ],
   "source": [
    "file_list['FrameWidth'].unique()"
   ]
  },
  {
   "cell_type": "code",
   "execution_count": 8,
   "metadata": {},
   "outputs": [
    {
     "data": {
      "text/html": [
       "<div>\n",
       "<style scoped>\n",
       "    .dataframe tbody tr th:only-of-type {\n",
       "        vertical-align: middle;\n",
       "    }\n",
       "\n",
       "    .dataframe tbody tr th {\n",
       "        vertical-align: top;\n",
       "    }\n",
       "\n",
       "    .dataframe thead th {\n",
       "        text-align: right;\n",
       "    }\n",
       "</style>\n",
       "<table border=\"1\" class=\"dataframe\">\n",
       "  <thead>\n",
       "    <tr style=\"text-align: right;\">\n",
       "      <th></th>\n",
       "      <th>FrameHeight</th>\n",
       "      <th>FrameWidth</th>\n",
       "      <th>Count</th>\n",
       "    </tr>\n",
       "  </thead>\n",
       "  <tbody>\n",
       "    <tr>\n",
       "      <th>0</th>\n",
       "      <td>112</td>\n",
       "      <td>112</td>\n",
       "      <td>10024</td>\n",
       "    </tr>\n",
       "    <tr>\n",
       "      <th>1</th>\n",
       "      <td>768</td>\n",
       "      <td>1024</td>\n",
       "      <td>5</td>\n",
       "    </tr>\n",
       "    <tr>\n",
       "      <th>2</th>\n",
       "      <td>768</td>\n",
       "      <td>1040</td>\n",
       "      <td>1</td>\n",
       "    </tr>\n",
       "  </tbody>\n",
       "</table>\n",
       "</div>"
      ],
      "text/plain": [
       "   FrameHeight  FrameWidth  Count\n",
       "0          112         112  10024\n",
       "1          768        1024      5\n",
       "2          768        1040      1"
      ]
     },
     "execution_count": 8,
     "metadata": {},
     "output_type": "execute_result"
    }
   ],
   "source": [
    "frame_size_counts = file_list.groupby([\"FrameHeight\", \"FrameWidth\"]).size().reset_index(name=\"Count\")\n",
    "frame_size_counts"
   ]
  },
  {
   "cell_type": "code",
   "execution_count": 9,
   "metadata": {},
   "outputs": [
    {
     "data": {
      "text/html": [
       "<div>\n",
       "<style scoped>\n",
       "    .dataframe tbody tr th:only-of-type {\n",
       "        vertical-align: middle;\n",
       "    }\n",
       "\n",
       "    .dataframe tbody tr th {\n",
       "        vertical-align: top;\n",
       "    }\n",
       "\n",
       "    .dataframe thead th {\n",
       "        text-align: right;\n",
       "    }\n",
       "</style>\n",
       "<table border=\"1\" class=\"dataframe\">\n",
       "  <thead>\n",
       "    <tr style=\"text-align: right;\">\n",
       "      <th></th>\n",
       "      <th>FileName</th>\n",
       "      <th>EF</th>\n",
       "      <th>ESV</th>\n",
       "      <th>EDV</th>\n",
       "      <th>FrameHeight</th>\n",
       "      <th>FrameWidth</th>\n",
       "      <th>FPS</th>\n",
       "      <th>NumberOfFrames</th>\n",
       "      <th>Split</th>\n",
       "    </tr>\n",
       "  </thead>\n",
       "  <tbody>\n",
       "    <tr>\n",
       "      <th>10024</th>\n",
       "      <td>0X5DD5283AC43CCDD1</td>\n",
       "      <td>62.691876</td>\n",
       "      <td>36.284389</td>\n",
       "      <td>97.256001</td>\n",
       "      <td>768</td>\n",
       "      <td>1024</td>\n",
       "      <td>50</td>\n",
       "      <td>188</td>\n",
       "      <td>TEST</td>\n",
       "    </tr>\n",
       "    <tr>\n",
       "      <th>10025</th>\n",
       "      <td>0X234005774F4CB5CD</td>\n",
       "      <td>51.724743</td>\n",
       "      <td>47.065329</td>\n",
       "      <td>97.493690</td>\n",
       "      <td>768</td>\n",
       "      <td>1040</td>\n",
       "      <td>50</td>\n",
       "      <td>127</td>\n",
       "      <td>TRAIN</td>\n",
       "    </tr>\n",
       "    <tr>\n",
       "      <th>10026</th>\n",
       "      <td>0X2DC68261CBCC04AE</td>\n",
       "      <td>62.187781</td>\n",
       "      <td>26.333478</td>\n",
       "      <td>69.642772</td>\n",
       "      <td>768</td>\n",
       "      <td>1024</td>\n",
       "      <td>50</td>\n",
       "      <td>66</td>\n",
       "      <td>TRAIN</td>\n",
       "    </tr>\n",
       "    <tr>\n",
       "      <th>10027</th>\n",
       "      <td>0X35291BE9AB90FB89</td>\n",
       "      <td>62.070762</td>\n",
       "      <td>49.064338</td>\n",
       "      <td>129.357561</td>\n",
       "      <td>768</td>\n",
       "      <td>1024</td>\n",
       "      <td>50</td>\n",
       "      <td>208</td>\n",
       "      <td>TRAIN</td>\n",
       "    </tr>\n",
       "    <tr>\n",
       "      <th>10028</th>\n",
       "      <td>0X6C435C1B417FDE8A</td>\n",
       "      <td>59.635257</td>\n",
       "      <td>57.721170</td>\n",
       "      <td>142.998978</td>\n",
       "      <td>768</td>\n",
       "      <td>1024</td>\n",
       "      <td>50</td>\n",
       "      <td>166</td>\n",
       "      <td>TRAIN</td>\n",
       "    </tr>\n",
       "    <tr>\n",
       "      <th>10029</th>\n",
       "      <td>0X5515B0BD077BE68A</td>\n",
       "      <td>46.019994</td>\n",
       "      <td>27.260394</td>\n",
       "      <td>50.500910</td>\n",
       "      <td>768</td>\n",
       "      <td>1024</td>\n",
       "      <td>50</td>\n",
       "      <td>126</td>\n",
       "      <td>TRAIN</td>\n",
       "    </tr>\n",
       "  </tbody>\n",
       "</table>\n",
       "</div>"
      ],
      "text/plain": [
       "                 FileName         EF        ESV         EDV  FrameHeight  \\\n",
       "10024  0X5DD5283AC43CCDD1  62.691876  36.284389   97.256001          768   \n",
       "10025  0X234005774F4CB5CD  51.724743  47.065329   97.493690          768   \n",
       "10026  0X2DC68261CBCC04AE  62.187781  26.333478   69.642772          768   \n",
       "10027  0X35291BE9AB90FB89  62.070762  49.064338  129.357561          768   \n",
       "10028  0X6C435C1B417FDE8A  59.635257  57.721170  142.998978          768   \n",
       "10029  0X5515B0BD077BE68A  46.019994  27.260394   50.500910          768   \n",
       "\n",
       "       FrameWidth  FPS  NumberOfFrames  Split  \n",
       "10024        1024   50             188   TEST  \n",
       "10025        1040   50             127  TRAIN  \n",
       "10026        1024   50              66  TRAIN  \n",
       "10027        1024   50             208  TRAIN  \n",
       "10028        1024   50             166  TRAIN  \n",
       "10029        1024   50             126  TRAIN  "
      ]
     },
     "execution_count": 9,
     "metadata": {},
     "output_type": "execute_result"
    }
   ],
   "source": [
    "outlier_frames = file_list[(file_list[\"FrameHeight\"] != 112) | (file_list[\"FrameWidth\"] != 112)]\n",
    "outlier_frames"
   ]
  },
  {
   "cell_type": "markdown",
   "metadata": {},
   "source": [
    "### Volume Tracings"
   ]
  },
  {
   "cell_type": "code",
   "execution_count": 10,
   "metadata": {},
   "outputs": [
    {
     "name": "stdout",
     "output_type": "stream",
     "text": [
      "<class 'pandas.core.frame.DataFrame'>\n",
      "RangeIndex: 425010 entries, 0 to 425009\n",
      "Data columns (total 6 columns):\n",
      " #   Column    Non-Null Count   Dtype  \n",
      "---  ------    --------------   -----  \n",
      " 0   FileName  425010 non-null  object \n",
      " 1   X1        425010 non-null  float64\n",
      " 2   Y1        425010 non-null  float64\n",
      " 3   X2        425010 non-null  float64\n",
      " 4   Y2        425010 non-null  float64\n",
      " 5   Frame     425010 non-null  int64  \n",
      "dtypes: float64(4), int64(1), object(1)\n",
      "memory usage: 19.5+ MB\n"
     ]
    }
   ],
   "source": [
    "volume_tracings.info()"
   ]
  },
  {
   "cell_type": "code",
   "execution_count": 11,
   "metadata": {},
   "outputs": [
    {
     "name": "stdout",
     "output_type": "stream",
     "text": [
      "Missing files: \n",
      "{'0X6C435C1B417FDE8A', '0X234005774F4CB5CD', '0X35291BE9AB90FB89', '0X5DD5283AC43CCDD1', '0X5515B0BD077BE68A', '0X2DC68261CBCC04AE'}\n",
      "\n",
      "Extra files: \n",
      "{'0X4F8859C8AB4DA9CB'}\n"
     ]
    }
   ],
   "source": [
    "vt_filenames = set(volume_tracings['FileName'].str.replace(\".avi\",\"\",regex=False))\n",
    "fl_filenames = set(file_list['FileName'])\n",
    "\n",
    "missing_files = fl_filenames - vt_filenames\n",
    "extra_files = vt_filenames - fl_filenames\n",
    "\n",
    "print(f'Missing files: \\n{missing_files}\\n\\nExtra files: \\n{extra_files}')"
   ]
  },
  {
   "cell_type": "code",
   "execution_count": 12,
   "metadata": {},
   "outputs": [
    {
     "data": {
      "text/plain": [
       "{'0X234005774F4CB5CD',\n",
       " '0X2DC68261CBCC04AE',\n",
       " '0X35291BE9AB90FB89',\n",
       " '0X5515B0BD077BE68A',\n",
       " '0X5DD5283AC43CCDD1',\n",
       " '0X6C435C1B417FDE8A'}"
      ]
     },
     "execution_count": 12,
     "metadata": {},
     "output_type": "execute_result"
    }
   ],
   "source": [
    "missing_files.intersection(outlier_frames['FileName'])"
   ]
  },
  {
   "cell_type": "code",
   "execution_count": 13,
   "metadata": {},
   "outputs": [],
   "source": [
    "discarded_files= list(missing_files) + list(extra_files)"
   ]
  },
  {
   "cell_type": "code",
   "execution_count": 14,
   "metadata": {},
   "outputs": [
    {
     "data": {
      "text/html": [
       "<div>\n",
       "<style scoped>\n",
       "    .dataframe tbody tr th:only-of-type {\n",
       "        vertical-align: middle;\n",
       "    }\n",
       "\n",
       "    .dataframe tbody tr th {\n",
       "        vertical-align: top;\n",
       "    }\n",
       "\n",
       "    .dataframe thead th {\n",
       "        text-align: right;\n",
       "    }\n",
       "</style>\n",
       "<table border=\"1\" class=\"dataframe\">\n",
       "  <thead>\n",
       "    <tr style=\"text-align: right;\">\n",
       "      <th></th>\n",
       "      <th>FileName</th>\n",
       "      <th>ES</th>\n",
       "      <th>ED</th>\n",
       "    </tr>\n",
       "  </thead>\n",
       "  <tbody>\n",
       "    <tr>\n",
       "      <th>0</th>\n",
       "      <td>0X100009310A3BD7FC.avi</td>\n",
       "      <td>46</td>\n",
       "      <td>61</td>\n",
       "    </tr>\n",
       "    <tr>\n",
       "      <th>1</th>\n",
       "      <td>0X1002E8FBACD08477.avi</td>\n",
       "      <td>3</td>\n",
       "      <td>18</td>\n",
       "    </tr>\n",
       "    <tr>\n",
       "      <th>2</th>\n",
       "      <td>0X1005D03EED19C65B.avi</td>\n",
       "      <td>24</td>\n",
       "      <td>35</td>\n",
       "    </tr>\n",
       "    <tr>\n",
       "      <th>3</th>\n",
       "      <td>0X10075961BC11C88E.avi</td>\n",
       "      <td>91</td>\n",
       "      <td>108</td>\n",
       "    </tr>\n",
       "    <tr>\n",
       "      <th>4</th>\n",
       "      <td>0X10094BA0A028EAC3.avi</td>\n",
       "      <td>137</td>\n",
       "      <td>156</td>\n",
       "    </tr>\n",
       "    <tr>\n",
       "      <th>...</th>\n",
       "      <td>...</td>\n",
       "      <td>...</td>\n",
       "      <td>...</td>\n",
       "    </tr>\n",
       "    <tr>\n",
       "      <th>10020</th>\n",
       "      <td>0XFDFBA5702E94ABF.avi</td>\n",
       "      <td>100</td>\n",
       "      <td>117</td>\n",
       "    </tr>\n",
       "    <tr>\n",
       "      <th>10021</th>\n",
       "      <td>0XFDFD17B7CCFE5AF.avi</td>\n",
       "      <td>66</td>\n",
       "      <td>85</td>\n",
       "    </tr>\n",
       "    <tr>\n",
       "      <th>10022</th>\n",
       "      <td>0XFE6E32991136338.avi</td>\n",
       "      <td>31</td>\n",
       "      <td>45</td>\n",
       "    </tr>\n",
       "    <tr>\n",
       "      <th>10023</th>\n",
       "      <td>0XFE83FF3D3B13C3A.avi</td>\n",
       "      <td>49</td>\n",
       "      <td>67</td>\n",
       "    </tr>\n",
       "    <tr>\n",
       "      <th>10024</th>\n",
       "      <td>0XFEBEEFF93F6FEB9.avi</td>\n",
       "      <td>25</td>\n",
       "      <td>38</td>\n",
       "    </tr>\n",
       "  </tbody>\n",
       "</table>\n",
       "<p>10025 rows × 3 columns</p>\n",
       "</div>"
      ],
      "text/plain": [
       "                     FileName   ES   ED\n",
       "0      0X100009310A3BD7FC.avi   46   61\n",
       "1      0X1002E8FBACD08477.avi    3   18\n",
       "2      0X1005D03EED19C65B.avi   24   35\n",
       "3      0X10075961BC11C88E.avi   91  108\n",
       "4      0X10094BA0A028EAC3.avi  137  156\n",
       "...                       ...  ...  ...\n",
       "10020   0XFDFBA5702E94ABF.avi  100  117\n",
       "10021   0XFDFD17B7CCFE5AF.avi   66   85\n",
       "10022   0XFE6E32991136338.avi   31   45\n",
       "10023   0XFE83FF3D3B13C3A.avi   49   67\n",
       "10024   0XFEBEEFF93F6FEB9.avi   25   38\n",
       "\n",
       "[10025 rows x 3 columns]"
      ]
     },
     "execution_count": 14,
     "metadata": {},
     "output_type": "execute_result"
    }
   ],
   "source": [
    "frame_extremes = volume_tracings.groupby(\"FileName\")[\"Frame\"].agg(ES=\"first\", ED=\"last\").reset_index()\n",
    "frame_extremes"
   ]
  },
  {
   "cell_type": "markdown",
   "metadata": {},
   "source": [
    "### Videos"
   ]
  },
  {
   "cell_type": "code",
   "execution_count": 15,
   "metadata": {},
   "outputs": [
    {
     "data": {
      "image/png": "[encoded data removed]",
      "text/plain": [
       "<Figure size 1500x1000 with 6 Axes>"
      ]
     },
     "metadata": {},
     "output_type": "display_data"
    }
   ],
   "source": [
    "def build_polygons_dict(volume_csv_path):\n",
    "    \"\"\"\n",
    "    Reads a VolumeTracings.csv in which (FileName, Frame) might appear \n",
    "    multiple times, each providing partial boundary segments.\n",
    "    Returns a dict: (base_name, frame_number) -> [ [ (x1,y1), (x2,y2), ... ] ]\n",
    "    \"\"\"\n",
    "    tracings_df = pd.read_csv(volume_csv_path)\n",
    "    \n",
    "    # Group by (FileName, Frame), accumulate X/Y pairs\n",
    "    grouped = tracings_df.groupby([\"FileName\", \"Frame\"])\n",
    "    polygons_dict = {}\n",
    "\n",
    "    for (filename, frame), group_rows in grouped:\n",
    "        coords = []\n",
    "        for _, row in group_rows.iterrows():\n",
    "            x1, y1 = float(row[\"X1\"]), float(row[\"Y1\"])\n",
    "            x2, y2 = float(row[\"X2\"]), float(row[\"Y2\"])\n",
    "            coords.append((x1, y1))\n",
    "            coords.append((x2, y2))\n",
    "\n",
    "        base_name = os.path.splitext(filename)[0]\n",
    "        key = (base_name, int(frame))\n",
    "        # Store all coords as one polygon boundary\n",
    "        polygons_dict[key] = [coords]\n",
    "\n",
    "    return polygons_dict\n",
    "\n",
    "def sort_polygon_coords(coords):\n",
    "    \"\"\"\n",
    "    Sort the list of (x,y) points by angle around the centroid, \n",
    "    so they form one continuous path for fillPoly.\n",
    "    \"\"\"\n",
    "    centroid = np.mean(coords, axis=0)\n",
    "    # angles in [-pi, pi]\n",
    "    angles = [np.arctan2(y - centroid[1], x - centroid[0]) for (x, y) in coords]\n",
    "    # sort by angle ascending\n",
    "    sorted_idx = np.argsort(angles)\n",
    "    sorted_coords = [coords[i] for i in sorted_idx]\n",
    "    return sorted_coords\n",
    "\n",
    "def create_mask(polygons_dict, video_name, frame_idx, hw_shape):\n",
    "    \"\"\"\n",
    "    Creates a 2D mask for the given (video_name, frame_idx), \n",
    "    filling the polygon boundary in a more continuous manner.\n",
    "    Also applies a small morphological close.\n",
    "    \"\"\"\n",
    "    base_name = os.path.splitext(video_name)[0]\n",
    "    key = (base_name, frame_idx)\n",
    "    \n",
    "    mask = np.zeros(hw_shape, dtype=np.uint8)\n",
    "    if key not in polygons_dict:\n",
    "        return mask  # No polygons => empty\n",
    "\n",
    "    for polygon_coords in polygons_dict[key]:\n",
    "        # 1) Sort the boundary points so they form a continuous loop\n",
    "        polygon_coords_sorted = sort_polygon_coords(polygon_coords)\n",
    "\n",
    "        # 2) Fill the polygon\n",
    "        pts = np.array(polygon_coords_sorted, dtype=np.int32).reshape((-1, 1, 2))\n",
    "        cv2.fillPoly(mask, [pts], 255)\n",
    "\n",
    "    # 3) Optionally apply morphological closing to fill small holes/gaps\n",
    "    kernel = cv2.getStructuringElement(cv2.MORPH_ELLIPSE, (3, 3))\n",
    "    mask = cv2.morphologyEx(mask, cv2.MORPH_CLOSE, kernel)\n",
    "\n",
    "    # Convert to 0/1 mask if desired\n",
    "    mask = (mask > 127).astype(np.uint8)\n",
    "    return mask\n",
    "\n",
    "def read_frame_resized(video_path, frame_idx, resize=(112, 112)):\n",
    "    \"\"\"\n",
    "    Reads the given 0-based frame index from a video file,\n",
    "    converts from BGR to RGB, and optionally resizes to (112,112).\n",
    "    \"\"\"\n",
    "    cap = cv2.VideoCapture(video_path)\n",
    "    if not cap.isOpened():\n",
    "        return None\n",
    "\n",
    "    cap.set(cv2.CAP_PROP_POS_FRAMES, frame_idx)\n",
    "    ret, frame = cap.read()\n",
    "    cap.release()\n",
    "\n",
    "    if not ret or frame is None:\n",
    "        return None\n",
    "\n",
    "    frame = cv2.cvtColor(frame, cv2.COLOR_BGR2RGB)\n",
    "    if resize is not None:\n",
    "        frame = cv2.resize(frame, resize, interpolation=cv2.INTER_AREA)\n",
    "    return frame\n",
    "\n",
    "\n",
    "polygons_dict = build_polygons_dict(volume_csv_path=volume_tracings_path)\n",
    "sample_filename = \"0X1005D03EED19C65B.avi\"  # must exist\n",
    "\n",
    "# Identify frames (e.g. min=ES, max=ED)\n",
    "df = pd.read_csv(volume_tracings_path)\n",
    "sample_rows = df[df[\"FileName\"] == sample_filename]\n",
    "es_frame = sample_rows[\"Frame\"].min()\n",
    "ed_frame = sample_rows[\"Frame\"].max()\n",
    "\n",
    "video_path = os.path.join(videos_path, sample_filename)\n",
    "es_frame_img = read_frame_resized(video_path, es_frame, resize=(112,112))\n",
    "ed_frame_img = read_frame_resized(video_path, ed_frame, resize=(112,112))\n",
    "\n",
    "es_mask = create_mask(polygons_dict, sample_filename, es_frame, es_frame_img.shape[:2])\n",
    "ed_mask = create_mask(polygons_dict, sample_filename, ed_frame, ed_frame_img.shape[:2])\n",
    "\n",
    "es_overlay = cv2.addWeighted(es_frame_img, 0.7,\n",
    "                                cv2.cvtColor(es_mask*255, cv2.COLOR_GRAY2RGB), 0.3, 0)\n",
    "ed_overlay = cv2.addWeighted(ed_frame_img, 0.7,\n",
    "                                cv2.cvtColor(ed_mask*255, cv2.COLOR_GRAY2RGB), 0.3, 0)\n",
    "\n",
    "fig, axes = plt.subplots(2, 3, figsize=(15, 10))\n",
    "\n",
    "axes[0,0].imshow(es_frame_img)\n",
    "axes[0,0].set_title(f\"ES Frame ({es_frame})\")\n",
    "axes[0,0].axis(\"off\")\n",
    "\n",
    "axes[0,1].imshow(es_mask, cmap=\"gray\")\n",
    "axes[0,1].set_title(\"ES Mask\")\n",
    "axes[0,1].axis(\"off\")\n",
    "\n",
    "axes[0,2].imshow(es_overlay)\n",
    "axes[0,2].set_title(\"ES Overlay\")\n",
    "axes[0,2].axis(\"off\")\n",
    "\n",
    "axes[1,0].imshow(ed_frame_img)\n",
    "axes[1,0].set_title(f\"ED Frame ({ed_frame})\")\n",
    "axes[1,0].axis(\"off\")\n",
    "\n",
    "axes[1,1].imshow(ed_mask, cmap=\"gray\")\n",
    "axes[1,1].set_title(\"ED Mask\")\n",
    "axes[1,1].axis(\"off\")\n",
    "\n",
    "axes[1,2].imshow(ed_overlay)\n",
    "axes[1,2].set_title(\"ED Overlay\")\n",
    "axes[1,2].axis(\"off\")\n",
    "\n",
    "plt.tight_layout()\n",
    "plt.show()\n"
   ]
  },
  {
   "cell_type": "code",
   "execution_count": 14,
   "metadata": {},
   "outputs": [
    {
     "data": {
      "text/plain": [
       "array(['0X100009310A3BD7FC.avi', '0X1002E8FBACD08477.avi',\n",
       "       '0X1005D03EED19C65B.avi', '0X10075961BC11C88E.avi',\n",
       "       '0X10094BA0A028EAC3.avi', '0X100CF05D141FF143.avi',\n",
       "       '0X100E3B8D3280BEC5.avi', '0X100E491B3CD58DE2.avi',\n",
       "       '0X100F044876B98F90.avi', '0X101026B90DAE7E95.avi'], dtype=object)"
      ]
     },
     "execution_count": 14,
     "metadata": {},
     "output_type": "execute_result"
    }
   ],
   "source": [
    "volume_tracings['FileName'].unique()[:10]"
   ]
  }
 ],
 "metadata": {
  "kernelspec": {
   "display_name": "mainenv",
   "language": "python",
   "name": "python3"
  },
  "language_info": {
   "codemirror_mode": {
    "name": "ipython",
    "version": 3
   },
   "file_extension": ".py",
   "mimetype": "text/x-python",
   "name": "python",
   "nbconvert_exporter": "python",
   "pygments_lexer": "ipython3",
   "version": "3.11.0"
  }
 },
 "nbformat": 4,
 "nbformat_minor": 2
}
