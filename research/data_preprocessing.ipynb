{
 "cells": [
  {
   "cell_type": "markdown",
   "metadata": {},
   "source": [
    "## Dependencies"
   ]
  },
  {
   "cell_type": "code",
   "execution_count": 1,
   "metadata": {},
   "outputs": [
    {
     "data": {
      "text/plain": [
       "'c:\\\\Projects\\\\python\\\\echoframe'"
      ]
     },
     "execution_count": 1,
     "metadata": {},
     "output_type": "execute_result"
    }
   ],
   "source": [
    "import os\n",
    "import pandas as pd\n",
    "from pathlib import Path\n",
    "import seaborn as sns\n",
    "import matplotlib.pyplot as plt\n",
    "import cv2\n",
    "import numpy as np\n",
    "\n",
    "data_path = Path('./data/EchoNet-Dynamic/EchoNet-Dynamic/')\n",
    "file_list_path = os.path.join(data_path,'FileList.csv')\n",
    "volume_tracings_path = os.path.join(data_path,'VolumeTracings.csv')\n",
    "videos_path = os.path.join(data_path,'Videos')\n",
    "os.chdir('../')\n",
    "%pwd"
   ]
  },
  {
   "cell_type": "code",
   "execution_count": 2,
   "metadata": {},
   "outputs": [],
   "source": [
    "file_list = pd.read_csv(filepath_or_buffer=file_list_path)\n",
    "volume_tracings = pd.read_csv(filepath_or_buffer=volume_tracings_path)\n"
   ]
  },
  {
   "cell_type": "code",
   "execution_count": 3,
   "metadata": {},
   "outputs": [
    {
     "name": "stdout",
     "output_type": "stream",
     "text": [
      "<class 'pandas.core.frame.DataFrame'>\n",
      "RangeIndex: 425010 entries, 0 to 425009\n",
      "Data columns (total 6 columns):\n",
      " #   Column    Non-Null Count   Dtype  \n",
      "---  ------    --------------   -----  \n",
      " 0   FileName  425010 non-null  object \n",
      " 1   X1        425010 non-null  float64\n",
      " 2   Y1        425010 non-null  float64\n",
      " 3   X2        425010 non-null  float64\n",
      " 4   Y2        425010 non-null  float64\n",
      " 5   Frame     425010 non-null  int64  \n",
      "dtypes: float64(4), int64(1), object(1)\n",
      "memory usage: 19.5+ MB\n"
     ]
    }
   ],
   "source": [
    "volume_tracings.info()"
   ]
  },
  {
   "cell_type": "markdown",
   "metadata": {},
   "source": [
    "## Dataset preprocessing"
   ]
  },
  {
   "cell_type": "markdown",
   "metadata": {},
   "source": [
    "### Handling missing files and outliers"
   ]
  },
  {
   "cell_type": "code",
   "execution_count": 4,
   "metadata": {},
   "outputs": [
    {
     "name": "stdout",
     "output_type": "stream",
     "text": [
      "Missing files: \n",
      "['0X6C435C1B417FDE8A.avi', '0X2DC68261CBCC04AE.avi', '0X5515B0BD077BE68A.avi', '0X234005774F4CB5CD.avi', '0X5DD5283AC43CCDD1.avi', '0X35291BE9AB90FB89.avi']\n",
      "\n",
      "Extra files: \n",
      "['0X4F8859C8AB4DA9CB.avi']\n"
     ]
    },
    {
     "data": {
      "text/plain": [
       "['0X6C435C1B417FDE8A.avi',\n",
       " '0X2DC68261CBCC04AE.avi',\n",
       " '0X5515B0BD077BE68A.avi',\n",
       " '0X234005774F4CB5CD.avi',\n",
       " '0X5DD5283AC43CCDD1.avi',\n",
       " '0X35291BE9AB90FB89.avi',\n",
       " '0X4F8859C8AB4DA9CB.avi']"
      ]
     },
     "execution_count": 4,
     "metadata": {},
     "output_type": "execute_result"
    }
   ],
   "source": [
    "file_list['FileName'] = file_list['FileName'].apply(\n",
    "    lambda x: x if x.endswith('.avi') else x + '.avi'\n",
    ")\n",
    "vt_filenames = set(volume_tracings['FileName'])\n",
    "fl_filenames = set(file_list['FileName'])\n",
    "\n",
    "missing_files = list(fl_filenames - vt_filenames)\n",
    "extra_files = list(vt_filenames - fl_filenames)\n",
    "\n",
    "print(f'Missing files: \\n{missing_files}\\n\\nExtra files: \\n{extra_files}')\n",
    "redacted_files = missing_files+extra_files\n",
    "\n",
    "redacted_files"
   ]
  },
  {
   "cell_type": "code",
   "execution_count": 5,
   "metadata": {},
   "outputs": [],
   "source": [
    "file_list = file_list[~file_list['FileName'].isin(redacted_files)]\n",
    "volume_tracings = volume_tracings[~volume_tracings['FileName'].isin(redacted_files)]"
   ]
  },
  {
   "cell_type": "markdown",
   "metadata": {},
   "source": [
    "### Train test and val splits"
   ]
  },
  {
   "cell_type": "code",
   "execution_count": 6,
   "metadata": {},
   "outputs": [],
   "source": [
    "train_df = file_list[file_list['Split'] == 'TRAIN']\n",
    "val_df   = file_list[file_list['Split'] == 'VAL']\n",
    "test_df  = file_list[file_list['Split'] == 'TEST']"
   ]
  }
 ],
 "metadata": {
  "kernelspec": {
   "display_name": "mainenv",
   "language": "python",
   "name": "python3"
  },
  "language_info": {
   "codemirror_mode": {
    "name": "ipython",
    "version": 3
   },
   "file_extension": ".py",
   "mimetype": "text/x-python",
   "name": "python",
   "nbconvert_exporter": "python",
   "pygments_lexer": "ipython3",
   "version": "3.11.0"
  }
 },
 "nbformat": 4,
 "nbformat_minor": 2
}
